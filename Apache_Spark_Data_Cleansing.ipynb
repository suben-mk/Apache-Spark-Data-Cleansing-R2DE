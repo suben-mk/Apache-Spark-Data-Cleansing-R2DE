{
  "nbformat": 4,
  "nbformat_minor": 0,
  "metadata": {
    "colab": {
      "provenance": [],
      "toc_visible": true,
      "authorship_tag": "ABX9TyPbtbWmBDkWNb0itv0gGG/e",
      "include_colab_link": true
    },
    "kernelspec": {
      "name": "python3",
      "display_name": "Python 3"
    },
    "language_info": {
      "name": "python"
    }
  },
  "cells": [
    {
      "cell_type": "markdown",
      "metadata": {
        "id": "view-in-github",
        "colab_type": "text"
      },
      "source": [
        "<a href=\"https://colab.research.google.com/github/suben-mk/Apache-Spark-Data-Cleansing-R2DE2.0/blob/main/Apache_Spark_Data_Cleansing.ipynb\" target=\"_parent\"><img src=\"https://colab.research.google.com/assets/colab-badge.svg\" alt=\"Open In Colab\"/></a>"
      ]
    },
    {
      "cell_type": "markdown",
      "source": [
        "# R2DE2.0 Workshop : Data Cleansing with Apache Spark"
      ],
      "metadata": {
        "id": "iAlQACppzSbK"
      }
    },
    {
      "cell_type": "markdown",
      "source": [
        "## 1) ติดตั้ง Spark และ PySpark"
      ],
      "metadata": {
        "id": "aGI8eEWyzsR3"
      }
    },
    {
      "cell_type": "code",
      "source": [
        "!apt-get update                                                                          # อัพเดท Package ทั้งหมดใน VM ตัวนี้\n",
        "!apt-get install openjdk-8-jdk-headless -qq > /dev/null                                  # ติดตั้ง Java Development Kit (จำเป็นสำหรับการติดตั้ง Spark)\n",
        "!wget -q https://archive.apache.org/dist/spark/spark-3.1.2/spark-3.1.2-bin-hadoop2.7.tgz # ติดตั้ง Spark 3.1.2\n",
        "!tar xzvf spark-3.1.2-bin-hadoop2.7.tgz                                                  # Unzip ไฟล์ Spark 3.1.2\n",
        "!pip install -q findspark==1.3.0                                                         # ติดตั้ง Package Python สำหรับเชื่อมต่อกับ Spark"
      ],
      "metadata": {
        "collapsed": true,
        "id": "BssvbH4mzxWV"
      },
      "execution_count": null,
      "outputs": []
    },
    {
      "cell_type": "code",
      "source": [
        "# Set enviroment variable ให้ Python รู้จัก Spark\n",
        "import os\n",
        "os.environ[\"JAVA_HOME\"] = \"/usr/lib/jvm/java-8-openjdk-amd64\"\n",
        "os.environ[\"SPARK_HOME\"] = \"/content/spark-3.1.2-bin-hadoop2.7\""
      ],
      "metadata": {
        "id": "JOyWmDh-14sy"
      },
      "execution_count": 4,
      "outputs": []
    },
    {
      "cell_type": "code",
      "source": [
        "# ติดตั้ง PySpark ลงใน Python\n",
        "!pip install pyspark==3.1.2"
      ],
      "metadata": {
        "id": "tkAEzRau17is",
        "collapsed": true
      },
      "execution_count": null,
      "outputs": []
    },
    {
      "cell_type": "markdown",
      "source": [
        "## 2) Data Cleansing with Spark"
      ],
      "metadata": {
        "id": "ZCGYsKT-rYjU"
      }
    },
    {
      "cell_type": "code",
      "source": [
        "# Import module\n",
        "from pyspark.sql import SparkSession\n",
        "from pyspark.sql import functions as f\n",
        "from pyspark.sql.functions import when\n",
        "\n",
        "# สร้าง Spark Session เพื่อใช้งาน Spark\n",
        "spark = SparkSession.builder.master(\"local[*]\").getOrCreate()\n",
        "\n",
        "# อ่านข้อมูลจากไฟล์ CSV\n",
        "df_transection = spark.read.csv('/content/ws2_data.csv', header = True, inferSchema = True, )"
      ],
      "metadata": {
        "id": "jVj1r6nv-mV0"
      },
      "execution_count": 143,
      "outputs": []
    },
    {
      "cell_type": "markdown",
      "source": [
        "### 2.1 Spark DataFrames"
      ],
      "metadata": {
        "id": "1wRvnzvhQWKA"
      }
    },
    {
      "cell_type": "markdown",
      "source": [
        "#### Data Type\n",
        "* type คอลัมน์ timestamp จาก string เป็น datetime"
      ],
      "metadata": {
        "id": "e_ziMVV2Clg_"
      }
    },
    {
      "cell_type": "code",
      "source": [
        "# เช็ค Data type\n",
        "df_transection.dtypes"
      ],
      "metadata": {
        "colab": {
          "base_uri": "https://localhost:8080/"
        },
        "id": "rbgvhLD0Kj6N",
        "outputId": "444f2f79-de48-4e9b-8b5a-e9169f63c13d"
      },
      "execution_count": 144,
      "outputs": [
        {
          "output_type": "execute_result",
          "data": {
            "text/plain": [
              "[('timestamp', 'string'),\n",
              " ('user_id', 'string'),\n",
              " ('book_id', 'int'),\n",
              " ('country', 'string'),\n",
              " ('price', 'double')]"
            ]
          },
          "metadata": {},
          "execution_count": 144
        }
      ]
    },
    {
      "cell_type": "code",
      "source": [
        "# แปลง type คอลัมน์ timestamp จาก string เป็น datetime\n",
        "df_transection_clean = df_transection.withColumn(\"timestamp\", f.to_timestamp(df_transection.timestamp, 'yyyy-MM-dd HH:mm:ss'))"
      ],
      "metadata": {
        "id": "VbJLgKg1A_qe"
      },
      "execution_count": 145,
      "outputs": []
    },
    {
      "cell_type": "markdown",
      "source": [
        "#### Syntactical Anomalies\n",
        "* คอลัมน์ Country เปลี่ยนชื่อประเทศจาก Japane เป็น Japan"
      ],
      "metadata": {
        "id": "3fAjEZH_Csyx"
      }
    },
    {
      "cell_type": "code",
      "source": [
        "# เช็คคอลัมน์ Country == 'Japane'\n",
        "df_transection_clean.where(df_transection_clean['Country'] == \"Japane\").show(5)"
      ],
      "metadata": {
        "colab": {
          "base_uri": "https://localhost:8080/"
        },
        "id": "vE-qgNp8K4c0",
        "outputId": "e49b845e-328a-4176-8318-2af2c0ee81fa"
      },
      "execution_count": 146,
      "outputs": [
        {
          "output_type": "stream",
          "name": "stdout",
          "text": [
            "+-------------------+--------+-------+-------+-----+\n",
            "|          timestamp| user_id|book_id|country|price|\n",
            "+-------------------+--------+-------+-------+-----+\n",
            "|2021-05-01 13:11:11|a904217a|   1129| Japane|29.65|\n",
            "|2021-05-02 10:27:42|a6052e97|   1466| Japane| 35.0|\n",
            "|2021-05-04 10:44:41|a0f44c26|   1497| Japane|17.49|\n",
            "|2021-05-04 05:40:46|ad0f9907|   2269| Japane|35.71|\n",
            "|2021-05-05 01:08:25|aa169f5d|   1378| Japane|59.93|\n",
            "+-------------------+--------+-------+-------+-----+\n",
            "only showing top 5 rows\n",
            "\n"
          ]
        }
      ]
    },
    {
      "cell_type": "code",
      "source": [
        "# เปลี่ยนชื่อประเทศ japane เป็น japan และสร้างคอลัมน์ใหม่ชื่อ \"CountryUpdate\"\n",
        "df_clean_country = df_transection_clean.withColumn(\"CountryUpdate\", when(df_transection_clean['Country'] == 'Japane', 'Japan')\n",
        "                                                  .otherwise(df_transection_clean['Country']))\n",
        "\n",
        "# เอาคอลัมน์ CountryUpdate ไปแทนที่คอลัมน์ Country\n",
        "df_transection_clean = df_clean_country.drop(\"Country\").withColumnRenamed('CountryUpdate', 'Country')"
      ],
      "metadata": {
        "id": "NWwplsEuC_5N"
      },
      "execution_count": 147,
      "outputs": []
    },
    {
      "cell_type": "markdown",
      "source": [
        "#### Semantic Anomalies\n",
        "* ข้อกำหนดคอลัมน์ user_id ค่าจะต้องเป็นตัวเลขหรือตัวหนังสือ 8 ตัวอักษร"
      ],
      "metadata": {
        "id": "v_Dep6yrFX27"
      }
    },
    {
      "cell_type": "code",
      "source": [
        "# ใช้ Regular Expression สำหรับเช็ครูปแบบของคอลัมน์ user_id\n",
        "df_correct_userid = df_transection_clean.filter(df_transection_clean[\"user_id\"].rlike(\"^[a-z0-9]{8}$\"))\n",
        "df_incorrect_userid = df_transection_clean.subtract(df_correct_userid)\n",
        "df_incorrect_userid.show()"
      ],
      "metadata": {
        "colab": {
          "base_uri": "https://localhost:8080/"
        },
        "id": "PJUyilVSFObo",
        "outputId": "e43e1573-70ee-41b4-a4a3-bf271de7308f"
      },
      "execution_count": 148,
      "outputs": [
        {
          "output_type": "stream",
          "name": "stdout",
          "text": [
            "+-------------------+----------+-------+-----+--------------------+\n",
            "|          timestamp|   user_id|book_id|price|             Country|\n",
            "+-------------------+----------+-------+-----+--------------------+\n",
            "|2021-05-01 14:41:20|      null|    516|27.37|              Brazil|\n",
            "|2021-06-30 02:27:00|      null|   1390|27.99|               Japan|\n",
            "|2021-06-19 16:00:22|ca86d17200|   2269|35.71|United States of ...|\n",
            "|2021-07-15 18:53:09|ca86d17200|    322|30.79|United States of ...|\n",
            "+-------------------+----------+-------+-----+--------------------+\n",
            "\n"
          ]
        }
      ]
    },
    {
      "cell_type": "code",
      "source": [
        "# เปลี่ยน ca86d17200 เป็น ca86d172 และสร้างคอลัมน์ใหม่ชื่อ \"user_id_update\"\n",
        "df_clean_userid = df_transection_clean.withColumn(\"user_id_update\", when(df_transection_clean['user_id'] == 'ca86d17200', 'ca86d172')\n",
        "                                                  .otherwise(df_transection_clean['user_id']))\n",
        "\n",
        "# เอาคอลัมน์ user_id_update ไปแทนที่ user_id\n",
        "df_transection_clean = df_clean_userid.drop(\"user_id\").withColumnRenamed('user_id_update', 'user_id')"
      ],
      "metadata": {
        "id": "BTXmfGdWKK_U"
      },
      "execution_count": 149,
      "outputs": []
    },
    {
      "cell_type": "markdown",
      "source": [
        "#### Missing values\n",
        "* การเช็คและแก้ไข Missing Values (หากจำเป็น)"
      ],
      "metadata": {
        "id": "iUAYA493MFs_"
      }
    },
    {
      "cell_type": "code",
      "source": [
        "# เช็ค Missing Value\n",
        "df_transection_clean.summary(\"count\").show()"
      ],
      "metadata": {
        "colab": {
          "base_uri": "https://localhost:8080/"
        },
        "id": "rcE0W_vBMPoR",
        "outputId": "12c45b32-2f1d-4d71-8f82-5f0e1f6fd6a9"
      },
      "execution_count": 150,
      "outputs": [
        {
          "output_type": "stream",
          "name": "stdout",
          "text": [
            "+-------+-------+------+-------+-------+\n",
            "|summary|book_id| price|Country|user_id|\n",
            "+-------+-------+------+-------+-------+\n",
            "|  count| 500000|500000| 500000| 499998|\n",
            "+-------+-------+------+-------+-------+\n",
            "\n"
          ]
        }
      ]
    },
    {
      "cell_type": "code",
      "source": [
        "# เช็ค Missing Value จากคอลัมน์ user_id เป็นค่าว่างเปล่า\n",
        "df_transection_clean.where(df_transection_clean.user_id.isNull()).show()"
      ],
      "metadata": {
        "colab": {
          "base_uri": "https://localhost:8080/"
        },
        "id": "_z-ybfQnMvMP",
        "outputId": "b553e76d-e109-48c7-f6f9-507914b83048"
      },
      "execution_count": 151,
      "outputs": [
        {
          "output_type": "stream",
          "name": "stdout",
          "text": [
            "+-------------------+-------+-----+-------+-------+\n",
            "|          timestamp|book_id|price|Country|user_id|\n",
            "+-------------------+-------+-----+-------+-------+\n",
            "|2021-05-01 14:41:20|    516|27.37| Brazil|   null|\n",
            "|2021-06-30 02:27:00|   1390|27.99|  Japan|   null|\n",
            "+-------------------+-------+-----+-------+-------+\n",
            "\n"
          ]
        }
      ]
    },
    {
      "cell_type": "code",
      "source": [
        "# แทน user_id ที่เป็น NULL ด้วย 00000000\n",
        "df_clean_userid = df_transection_clean.withColumn(\"user_id_update\", when(df_transection_clean['user_id'].isNull(), '00000000')\n",
        "                                      .otherwise(df_transection_clean['user_id']))\n",
        "\n",
        "# เอาคอลัมน์ user_id_update ไปแทนที่ user_id\n",
        "df_transection_clean = df_clean_userid.drop(\"user_id\").withColumnRenamed('user_id_update', 'user_id')"
      ],
      "metadata": {
        "id": "Ut9lDmnuNFyU"
      },
      "execution_count": 152,
      "outputs": []
    },
    {
      "cell_type": "markdown",
      "source": [
        "### 2.2 Spark SQL"
      ],
      "metadata": {
        "id": "YNOxnqzNQeP2"
      }
    },
    {
      "cell_type": "code",
      "source": [
        "# แปลงข้อมูลจาก Spark DataFrame ให้เป็น TempView\n",
        "df_transection.createOrReplaceTempView(\"transection\")\n",
        "sql_transection = spark.sql(\"SELECT * FROM transection\")\n",
        "sql_transection.show(5)"
      ],
      "metadata": {
        "colab": {
          "base_uri": "https://localhost:8080/"
        },
        "id": "7aYARs8MQ5dn",
        "outputId": "7aff72b6-6321-44ec-c1db-acdaafb7193c"
      },
      "execution_count": 153,
      "outputs": [
        {
          "output_type": "stream",
          "name": "stdout",
          "text": [
            "+-------------------+--------+-------+------------+-----+\n",
            "|          timestamp| user_id|book_id|     country|price|\n",
            "+-------------------+--------+-------+------------+-----+\n",
            "|2021-05-01 08:03:44|824dc295|      2|      Israel|24.95|\n",
            "|2021-05-02 02:48:34|f80fe106|      6|    Thailand|31.49|\n",
            "|2021-05-01 16:54:57|01cb9fe0|      9|       Italy|29.65|\n",
            "|2021-05-01 21:45:28|59508f47|     13|South Africa| 22.4|\n",
            "|2021-05-01 14:50:52|3553ebbb|     14|      Canada| 28.0|\n",
            "+-------------------+--------+-------+------------+-----+\n",
            "only showing top 5 rows\n",
            "\n"
          ]
        }
      ]
    },
    {
      "cell_type": "code",
      "source": [
        "sql_transection_clean = spark.sql(\"\"\"\n",
        "\n",
        "SELECT\n",
        "/*แปลง type คอลัมน์ timestamp จาก string เป็น datetime*/\n",
        "to_timestamp(timestamp, 'yyyy-MM-dd HH:mm:ss') AS timestamp,\n",
        "CASE\n",
        "  /*เปลี่ยน 'ca86d17200' เป็น 'ca86d172'*/\n",
        "  WHEN user_id = 'ca86d17200' THEN 'ca86d172'\n",
        "  /*เปลี่ยน NULL เป็น '00000000'*/\n",
        "  WHEN user_id IS NULL THEN '00000000'\n",
        "  ELSE user_id\n",
        "END AS user_id,\n",
        "book_id,\n",
        "/*เปลี่ยนชื่อประเทศจาก Japane เป็น Japan*/\n",
        "CASE\n",
        "  WHEN country = 'Japane' THEN 'Japan'\n",
        "  ELSE country\n",
        "END AS country,\n",
        "price\n",
        "FROM transection\n",
        "\n",
        "\"\"\")"
      ],
      "metadata": {
        "id": "2xYGxv4KRn05"
      },
      "execution_count": 154,
      "outputs": []
    },
    {
      "cell_type": "markdown",
      "source": [
        "### 2.3 Save data to CSV"
      ],
      "metadata": {
        "id": "vDJIGPxtbg7G"
      }
    },
    {
      "cell_type": "code",
      "source": [
        "# save เป็น 1 ไฟล์ (ใช้ single worker)\n",
        "df_transection_clean.coalesce(1).write.csv('/content/output_transection_clean.csv', header = True)"
      ],
      "metadata": {
        "id": "tzi6_tPBb2Df"
      },
      "execution_count": 156,
      "outputs": []
    }
  ]
}